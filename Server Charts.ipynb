{
 "cells": [
  {
   "cell_type": "markdown",
   "id": "f854401e",
   "metadata": {},
   "source": [
    "Tools used: \n",
    "- colord (original) https://github.com/refresh-bio/CoLoRd ; compiled with `MEASURE_THREADS_TIMES` defined\n",
    "- pandas, seqborn, matplotlib, tqdm... "
   ]
  },
  {
   "cell_type": "code",
   "execution_count": 23,
   "id": "5c52baff",
   "metadata": {},
   "outputs": [],
   "source": [
    "import os\n",
    "import time\n",
    "import gzip\n",
    "import shutil\n",
    "\n",
    "import numpy as np\n",
    "import subprocess as sp\n",
    "import pandas as pd\n",
    "import matplotlib.pyplot as plt\n",
    "import seaborn as sns\n",
    "\n",
    "from collections import OrderedDict, defaultdict\n",
    "from tqdm import tqdm\n",
    "from pprint import pprint\n",
    "\n",
    "from IPython.display import display\n",
    "\n",
    "sns.set(style='whitegrid', font_scale=1.2)\n",
    "plt.rcParams['figure.figsize'] = [9, 6]\n",
    "plt.rcParams['figure.dpi'] = 100"
   ]
  },
  {
   "cell_type": "markdown",
   "id": "cfd4905d",
   "metadata": {},
   "source": [
    "# Data\n",
    "\n",
    "---\n",
    "\n",
    "### Human chromosome 1 and MGISEQ2000 sequence data with 30x coverage\n",
    "\n",
    "#### Reference Statistics:\n",
    "\n",
    "| Length    | Id           | Description                                                                    |\n",
    "|-----------|--------------|--------------------------------------------------------------------------------|\n",
    "| 248956422 | NC_000001.11 | Homo sapiens chromosome 1                                                      |\n",
    "| 175055    | NT_187361.1  | Homo sapiens chromosome 1 unlocalized genomic scaffold HSCHR1_CTG1_UNLOCALIZED |\n",
    "| 32032     | NT_187362.1  | Homo sapiens chromosome 1 unlocalized genomic scaffold HSCHR1_CTG2_UNLOCALIZED |\n",
    "| 127682    | NT_187363.1  | Homo sapiens chromosome 1 unlocalized genomic scaffold HSCHR1_CTG3_UNLOCALIZED |\n",
    "| 66860     | NT_187364.1  | Homo sapiens chromosome 1 unlocalized genomic scaffold HSCHR1_CTG4_UNLOCALIZED |\n",
    "| 40176     | NT_187365.1  | Homo sapiens chromosome 1 unlocalized genomic scaffold HSCHR1_CTG5_UNLOCALIZED |\n",
    "| 42210     | NT_187366.1  | Homo sapiens chromosome 1 unlocalized genomic scaffold HSCHR1_CTG6_UNLOCALIZED |\n",
    "| 176043    | NT_187367.1  | Homo sapiens chromosome 1 unlocalized genomic scaffold HSCHR1_CTG7_UNLOCALIZED |\n",
    "| 40745     | NT_187368.1  | Homo sapiens chromosome 1 unlocalized genomic scaffold HSCHR1_CTG8_UNLOCALIZED |\n",
    "| 41717     | NT_187369.1  | Homo sapiens chromosome 1 unlocalized genomic scaffold HSCHR1_CTG9_UNLOCALIZED |\n"
   ]
  },
  {
   "cell_type": "code",
   "execution_count": 24,
   "id": "41ea2524",
   "metadata": {},
   "outputs": [],
   "source": [
    "log_file_patter = 'server_logs/%s/colord_chr1_30x_%st%s.err'\n",
    "compress_mode = 'pbraw'\n",
    "data_title = f'Human Chromosome 1, MGISEQ2000, colord compress-{compress_mode}'\n",
    "chart_prefix = f'charts/hg/compress-{compress_mode}/server_chr1_'"
   ]
  },
  {
   "cell_type": "markdown",
   "id": "c401596a",
   "metadata": {},
   "source": [
    "## Collect `CoLoRd` logs for all files"
   ]
  },
  {
   "cell_type": "code",
   "execution_count": 25,
   "id": "4c9adb8c",
   "metadata": {},
   "outputs": [],
   "source": [
    "threads_counts = [2 ** i for i in range(2, 6)]\n",
    "server_environments = ['itmo', 'ssc']\n",
    "# server_environments = ['ssc']"
   ]
  },
  {
   "cell_type": "code",
   "execution_count": 26,
   "id": "85c1e9fd",
   "metadata": {},
   "outputs": [],
   "source": [
    "logs, logs_r = [], []\n",
    "\n",
    "for server_environment in server_environments:\n",
    "    for threads_count in threads_counts:\n",
    "        logs.append(log_file_patter % (server_environment, threads_count, ''))\n",
    "        logs_r.append(log_file_patter % (server_environment, threads_count, '_ref'))"
   ]
  },
  {
   "cell_type": "markdown",
   "id": "45989252",
   "metadata": {},
   "source": [
    "## Parsing log code"
   ]
  },
  {
   "cell_type": "code",
   "execution_count": 27,
   "id": "753defd4",
   "metadata": {},
   "outputs": [],
   "source": [
    "def parse_log_file(log):\n",
    "    def construct_dict_(lines):\n",
    "        return dict(map(str.strip, line.split(':', 1)) for line in lines)\n",
    "    \n",
    "    with open(log) as f:\n",
    "        # messy hack with \\t and dict\n",
    "\n",
    "        lines_tab, lines_no_tab = [], []\n",
    "        for line in f:\n",
    "            if ':' in line and line[0] != '#':\n",
    "                (lines_no_tab, lines_tab)[line[0] == '\\t'].append(line)\n",
    "        \n",
    "        return (construct_dict_(lines_no_tab), construct_dict_(lines_tab))"
   ]
  },
  {
   "cell_type": "markdown",
   "id": "1ee75550",
   "metadata": {},
   "source": [
    "## Calculate Total Time"
   ]
  },
  {
   "cell_type": "code",
   "execution_count": 28,
   "id": "2cdc967e",
   "metadata": {},
   "outputs": [],
   "source": [
    "# calculating stats for every file\n",
    "def calculate_time_stats(threads_counts, server_environments, logs):   \n",
    "    stats = defaultdict(list)\n",
    "    i = 0\n",
    "    for server_environment in server_environments:\n",
    "        for threads_count in threads_counts:\n",
    "            log, log_tab = parse_log_file(logs[i])\n",
    "            \n",
    "            stats['Threads'].append(threads_count)\n",
    "            stats['Server Environment'].append(server_environment)\n",
    "            stats['Total time, s'].append(float(log['Total time'][:-1]))\n",
    "            i += 1\n",
    "                            \n",
    "    return stats\n",
    "        \n",
    "time_stats = calculate_time_stats(threads_counts, server_environments, logs)\n",
    "time_stats_r = calculate_time_stats(threads_counts, server_environments, logs_r)"
   ]
  },
  {
   "cell_type": "code",
   "execution_count": 29,
   "id": "b347baea",
   "metadata": {
    "scrolled": true
   },
   "outputs": [
    {
     "data": {
      "text/html": [
       "<div>\n",
       "<style scoped>\n",
       "    .dataframe tbody tr th:only-of-type {\n",
       "        vertical-align: middle;\n",
       "    }\n",
       "\n",
       "    .dataframe tbody tr th {\n",
       "        vertical-align: top;\n",
       "    }\n",
       "\n",
       "    .dataframe thead th {\n",
       "        text-align: right;\n",
       "    }\n",
       "</style>\n",
       "<table border=\"1\" class=\"dataframe\">\n",
       "  <thead>\n",
       "    <tr style=\"text-align: right;\">\n",
       "      <th></th>\n",
       "      <th>index</th>\n",
       "      <th>Threads</th>\n",
       "      <th>Server Environment</th>\n",
       "      <th>Total time, s</th>\n",
       "      <th>Reference</th>\n",
       "    </tr>\n",
       "  </thead>\n",
       "  <tbody>\n",
       "    <tr>\n",
       "      <th>0</th>\n",
       "      <td>0</td>\n",
       "      <td>4</td>\n",
       "      <td>itmo</td>\n",
       "      <td>1409.360</td>\n",
       "      <td>False</td>\n",
       "    </tr>\n",
       "    <tr>\n",
       "      <th>1</th>\n",
       "      <td>1</td>\n",
       "      <td>8</td>\n",
       "      <td>itmo</td>\n",
       "      <td>707.063</td>\n",
       "      <td>False</td>\n",
       "    </tr>\n",
       "    <tr>\n",
       "      <th>2</th>\n",
       "      <td>2</td>\n",
       "      <td>16</td>\n",
       "      <td>itmo</td>\n",
       "      <td>409.792</td>\n",
       "      <td>False</td>\n",
       "    </tr>\n",
       "    <tr>\n",
       "      <th>3</th>\n",
       "      <td>3</td>\n",
       "      <td>32</td>\n",
       "      <td>itmo</td>\n",
       "      <td>307.170</td>\n",
       "      <td>False</td>\n",
       "    </tr>\n",
       "    <tr>\n",
       "      <th>4</th>\n",
       "      <td>4</td>\n",
       "      <td>4</td>\n",
       "      <td>ssc</td>\n",
       "      <td>883.799</td>\n",
       "      <td>False</td>\n",
       "    </tr>\n",
       "    <tr>\n",
       "      <th>5</th>\n",
       "      <td>5</td>\n",
       "      <td>8</td>\n",
       "      <td>ssc</td>\n",
       "      <td>862.976</td>\n",
       "      <td>False</td>\n",
       "    </tr>\n",
       "    <tr>\n",
       "      <th>6</th>\n",
       "      <td>6</td>\n",
       "      <td>16</td>\n",
       "      <td>ssc</td>\n",
       "      <td>615.928</td>\n",
       "      <td>False</td>\n",
       "    </tr>\n",
       "    <tr>\n",
       "      <th>7</th>\n",
       "      <td>7</td>\n",
       "      <td>32</td>\n",
       "      <td>ssc</td>\n",
       "      <td>439.472</td>\n",
       "      <td>False</td>\n",
       "    </tr>\n",
       "    <tr>\n",
       "      <th>8</th>\n",
       "      <td>0</td>\n",
       "      <td>4</td>\n",
       "      <td>itmo</td>\n",
       "      <td>3344.400</td>\n",
       "      <td>True</td>\n",
       "    </tr>\n",
       "    <tr>\n",
       "      <th>9</th>\n",
       "      <td>1</td>\n",
       "      <td>8</td>\n",
       "      <td>itmo</td>\n",
       "      <td>2294.260</td>\n",
       "      <td>True</td>\n",
       "    </tr>\n",
       "    <tr>\n",
       "      <th>10</th>\n",
       "      <td>2</td>\n",
       "      <td>16</td>\n",
       "      <td>itmo</td>\n",
       "      <td>2148.370</td>\n",
       "      <td>True</td>\n",
       "    </tr>\n",
       "    <tr>\n",
       "      <th>11</th>\n",
       "      <td>3</td>\n",
       "      <td>32</td>\n",
       "      <td>itmo</td>\n",
       "      <td>2098.450</td>\n",
       "      <td>True</td>\n",
       "    </tr>\n",
       "    <tr>\n",
       "      <th>12</th>\n",
       "      <td>4</td>\n",
       "      <td>4</td>\n",
       "      <td>ssc</td>\n",
       "      <td>2771.690</td>\n",
       "      <td>True</td>\n",
       "    </tr>\n",
       "    <tr>\n",
       "      <th>13</th>\n",
       "      <td>5</td>\n",
       "      <td>8</td>\n",
       "      <td>ssc</td>\n",
       "      <td>2729.160</td>\n",
       "      <td>True</td>\n",
       "    </tr>\n",
       "    <tr>\n",
       "      <th>14</th>\n",
       "      <td>6</td>\n",
       "      <td>16</td>\n",
       "      <td>ssc</td>\n",
       "      <td>2692.930</td>\n",
       "      <td>True</td>\n",
       "    </tr>\n",
       "    <tr>\n",
       "      <th>15</th>\n",
       "      <td>7</td>\n",
       "      <td>32</td>\n",
       "      <td>ssc</td>\n",
       "      <td>2748.450</td>\n",
       "      <td>True</td>\n",
       "    </tr>\n",
       "  </tbody>\n",
       "</table>\n",
       "</div>"
      ],
      "text/plain": [
       "    index  Threads Server Environment  Total time, s  Reference\n",
       "0       0        4               itmo       1409.360      False\n",
       "1       1        8               itmo        707.063      False\n",
       "2       2       16               itmo        409.792      False\n",
       "3       3       32               itmo        307.170      False\n",
       "4       4        4                ssc        883.799      False\n",
       "5       5        8                ssc        862.976      False\n",
       "6       6       16                ssc        615.928      False\n",
       "7       7       32                ssc        439.472      False\n",
       "8       0        4               itmo       3344.400       True\n",
       "9       1        8               itmo       2294.260       True\n",
       "10      2       16               itmo       2148.370       True\n",
       "11      3       32               itmo       2098.450       True\n",
       "12      4        4                ssc       2771.690       True\n",
       "13      5        8                ssc       2729.160       True\n",
       "14      6       16                ssc       2692.930       True\n",
       "15      7       32                ssc       2748.450       True"
      ]
     },
     "execution_count": 29,
     "metadata": {},
     "output_type": "execute_result"
    }
   ],
   "source": [
    "df = pd.DataFrame.from_dict(time_stats)\n",
    "df['Reference'] = False\n",
    "\n",
    "df_r = pd.DataFrame.from_dict(time_stats_r)\n",
    "df_r['Reference'] = True\n",
    "\n",
    "df_time = pd.concat([df, df_r]).reset_index()\n",
    "# df_time = df\n",
    "df_time"
   ]
  },
  {
   "cell_type": "markdown",
   "id": "90dc819e",
   "metadata": {},
   "source": [
    "## Coverage vs Time Chart"
   ]
  },
  {
   "cell_type": "code",
   "execution_count": 30,
   "id": "02d4bca4",
   "metadata": {},
   "outputs": [
    {
     "data": {
      "image/png": "[encoded data removed]",
      "text/plain": [
       "<Figure size 900x600 with 1 Axes>"
      ]
     },
     "metadata": {},
     "output_type": "display_data"
    }
   ],
   "source": [
    "sns.lineplot(data=df_time, x='Threads', y='Total time, s', style='Reference', hue='Server Environment', markers=True, style_order=[True, False])\n",
    "plt.ylim(ymin=0)\n",
    "plt.xscale('log')\n",
    "\n",
    "plt.xticks(threads_counts, [str(c) for c in threads_counts]);\n",
    "\n",
    "plt.tight_layout();\n",
    "plt.savefig(chart_prefix + 'threads-vs-time.pdf');"
   ]
  },
  {
   "cell_type": "code",
   "execution_count": null,
   "id": "d0d05f95",
   "metadata": {},
   "outputs": [],
   "source": []
  }
 ],
 "metadata": {
  "kernelspec": {
   "display_name": "Python 3 (ipykernel)",
   "language": "python",
   "name": "python3"
  },
  "language_info": {
   "codemirror_mode": {
    "name": "ipython",
    "version": 3
   },
   "file_extension": ".py",
   "mimetype": "text/x-python",
   "name": "python",
   "nbconvert_exporter": "python",
   "pygments_lexer": "ipython3",
   "version": "3.9.12"
  }
 },
 "nbformat": 4,
 "nbformat_minor": 5
}
